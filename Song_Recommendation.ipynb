{
  "nbformat": 4,
  "nbformat_minor": 0,
  "metadata": {
    "colab": {
      "provenance": [],
      "gpuType": "V100"
    },
    "kernelspec": {
      "name": "python3",
      "display_name": "Python 3"
    },
    "language_info": {
      "name": "python"
    }
  },
  "cells": [
    {
      "cell_type": "markdown",
      "source": [
        "**Import Modules**"
      ],
      "metadata": {
        "id": "Tm5ROYYO707T"
      }
    },
    {
      "cell_type": "code",
      "execution_count": null,
      "metadata": {
        "id": "A6sNM5ayvUB5"
      },
      "outputs": [],
      "source": [
        "import json\n",
        "import numpy as np\n",
        "from tqdm import tqdm\n",
        "import matplotlib.pyplot as plt\n",
        "import pickle\n",
        "from matplotlib import rcParams\n",
        "rcParams[\"figure.dpi\"] = 150"
      ]
    },
    {
      "cell_type": "markdown",
      "source": [
        "**Read File**"
      ],
      "metadata": {
        "id": "oaHPpyHP75pN"
      }
    },
    {
      "cell_type": "code",
      "source": [
        "with open(\"mpd.slice.0-999.json\", \"r\") as file:\n",
        "  data = json.load(file)"
      ],
      "metadata": {
        "id": "Whra2uABvhyw"
      },
      "execution_count": null,
      "outputs": []
    },
    {
      "cell_type": "markdown",
      "source": [
        "**Song & Graph Class**"
      ],
      "metadata": {
        "id": "mGzeRokE7-z2"
      }
    },
    {
      "cell_type": "code",
      "source": [
        "class Song:\n",
        "\n",
        "    def __init__(self, title, artist, title_id=0, artist_id=0, index=-1):\n",
        "\n",
        "        # Attributes\n",
        "        self.title = title\n",
        "        self.artist = artist\n",
        "        self.title_id = title_id\n",
        "        self.artist_id = artist_id\n",
        "        self.index = index\n",
        "        return\n",
        "\n",
        "    # Getters\n",
        "    def set_title(self, title):\n",
        "        self.title = title\n",
        "        return\n",
        "    def set_artist(self, artist):\n",
        "        self.title = artist\n",
        "        return\n",
        "    def set_title_id(self, title_id):\n",
        "        self.title = title_id\n",
        "        return\n",
        "    def set_artist_id(self, artist_id):\n",
        "        self.artist_id = artist_id\n",
        "        return\n",
        "    def set_index(self, index):\n",
        "        self.index = index\n",
        "        return\n",
        "\n",
        "    # Setters\n",
        "    def get_title(self): return self.title\n",
        "    def get_artist(self): return self.artist_id\n",
        "    def get_title_id(self): return self.title_id\n",
        "    def get_artist_id(self): return self.artist_id\n",
        "    def get_index(self): return self.index\n",
        "\n",
        "class Graph:\n",
        "    def __init__(self, n=0, nodes=[], adj=np.zeros((0,0), int)):\n",
        "        # Attribute\n",
        "        self.n = n\n",
        "        self.nodes = list(nodes)\n",
        "        self.adj = adj\n",
        "\n",
        "        return\n",
        "\n",
        "    def set_n(self, n):\n",
        "        difference = self.n - n\n",
        "        self.n = n\n",
        "        for i in range(difference):\n",
        "            self.cost += [[]]\n",
        "        return\n",
        "\n",
        "    def set_node(self, node):\n",
        "        self.nodes.append(node)\n",
        "        self.adj = np.pad(self.adj, pad_width=((0, 1), (0, 1)), mode='constant', constant_values=0)\n",
        "        return\n",
        "\n",
        "    def add_cost(self, i, j, cost=1):\n",
        "        self.adj[i][j] = self.get_cost(i, j) + cost\n",
        "        self.adj[j][i] = self.get_cost(j, i) + cost\n",
        "        return\n",
        "\n",
        "    def get_n(self): return self.n\n",
        "    def get_node(self, n): return self.nodes[n]\n",
        "    def get_cost(self, i, j): return self.adj[i][j]\n",
        "    def get_nodes(self):\n",
        "        output = []\n",
        "        for node in self.nodes:\n",
        "            output += [node.get_title()]\n",
        "        return output\n",
        "\n",
        "    def get_adj(self): return self.adj\n",
        "\n",
        "    def comp_pop(self):\n",
        "        output = []\n",
        "        for i in range(self.adj.shape[0]):\n",
        "          output += [(i, self.adj[i].sum())]\n",
        "        return\n",
        "\n",
        "    def set_diag_zero(self):\n",
        "        np.fill_diagonal(self.adj, 0)\n",
        "        return"
      ],
      "metadata": {
        "id": "WOPyu1VkvuwF"
      },
      "execution_count": null,
      "outputs": []
    },
    {
      "cell_type": "markdown",
      "source": [
        "**Read Graph Class, Optimal Search, Markov Chain Recommendation**"
      ],
      "metadata": {
        "id": "HmJSkCOh8GAn"
      }
    },
    {
      "cell_type": "code",
      "source": [
        "def setup_graph(input):\n",
        "    output = Graph() # initialize a graph object\n",
        "    position = 0 # record the position of each node on the nodes list of the graph\n",
        "    indices = {} # map the title of each song to its index on the nodes list\n",
        "    counter = 1\n",
        "    song_set = set()\n",
        "\n",
        "    for playlist in tqdm(input[\"playlists\"][:100], desc=\"Processing Playlist\"): # iterate through the playlist\n",
        "        prev = [] # record the songs that is in a particular playlist\n",
        "\n",
        "        counter += 1\n",
        "\n",
        "        for song in playlist[\"tracks\"]: # iterate through the songs in playlist\n",
        "            if song[\"album_name\"] not in song_set: # add the song to the graph if it is not added\n",
        "                output.set_node(Song(song[\"album_name\"], song[\"artist_name\"]))\n",
        "                indices[song[\"album_name\"]] = [position, song[\"artist_name\"]]\n",
        "                prev += [song[\"album_name\"]]\n",
        "                position += 1\n",
        "            else:\n",
        "                prev += [song[\"album_name\"]] # if song already in graph then just add to the previous in the playlist\n",
        "                song_set.add(song[\"album_name\"])\n",
        "\n",
        "        # change the cost of the nodes that occured in the same playlist by 1\n",
        "        for i in range(len(prev)):\n",
        "            for j in range(i+1, len(prev)):\n",
        "                output.add_cost(indices[prev[i]][0], indices[prev[j]][0])\n",
        "\n",
        "    output.set_diag_zero()\n",
        "\n",
        "    return output, indices\n",
        "\n",
        "def optimal_search(playlist, song_graph, song_indices):\n",
        "\n",
        "      # numpy array of all song\n",
        "      all_song = np.array(song_graph.get_adj(), dtype = int)\n",
        "      # vectors of the song from input playlist\n",
        "      n_song = np.zeros(song_graph.get_adj().shape[0], dtype=int)\n",
        "\n",
        "      # Store the song vectors into an array of their own\n",
        "      # Set the row vector of the song on the playlist in the original matrix to 0\n",
        "      for index in playlist:\n",
        "        if np.all(n_song == np.zeros(all_song.shape[0], dtype=int)):\n",
        "          n_song = np.array(all_song[song_indices[index][0]])\n",
        "          all_song[song_indices[index][0]] = np.zeros(all_song.shape[0], dtype=int)\n",
        "        else:\n",
        "          n_song = np.vstack([n_song, np.array(all_song[song_indices[index][0]])])\n",
        "          all_song[song_indices[index][0]] = np.zeros(all_song.shape[0], dtype=int)\n",
        "\n",
        "      projection = np.dot(n_song, all_song.T)\n",
        "      projection = projection.T\n",
        "\n",
        "      # Vector That Represent the similiarity between each song\n",
        "      # given by the sum of the projection onto basis of the playlist subspace\n",
        "      sim_vector = projection.sum(axis=1)\n",
        "      index = np.arange(0, 6100)\n",
        "      sim_vector = np.vstack([sim_vector, index]).T\n",
        "\n",
        "      # Sort the similiarity vector to find the index with greatest projection\n",
        "      sorted_indices = np.argsort(sim_vector[:, 0])\n",
        "      sorted_sim = sim_vector[sorted_indices]\n",
        "      sorted_sim = sorted_sim[::-1]\n",
        "\n",
        "      return sorted_sim\n",
        "\n",
        "def recommendation(playlist, all_song_graph,  all_song_info, num_rec, display_result):\n",
        "\n",
        "  # Given a playlist find the songs that may be interest to the user,\n",
        "  # record its indices as a list\n",
        "  ranked_songs = optimal_search(playlist, all_song_graph, all_song_info)\n",
        "  ranked_songs_indices = ranked_songs[:num_rec, 1].tolist()\n",
        "\n",
        "  # Given the indices of interest, construct a brand new adjacency matrix\n",
        "  # with only the song of interest\n",
        "  selected_song_array = []\n",
        "  full_song_matrix = all_song_graph.get_adj();\n",
        "\n",
        "  for i in ranked_songs_indices:\n",
        "    row = []\n",
        "    for j in ranked_songs_indices:\n",
        "      if i == j:\n",
        "        row.append(0)\n",
        "      else:\n",
        "        row.append(full_song_matrix[i, j])\n",
        "    selected_song_array.append(list(row))\n",
        "\n",
        "  ranked_song_matrix = np.array(selected_song_array, dtype=float)\n",
        "\n",
        "  # Modify the column of the adjacency matrix such that it is column stochastic\n",
        "  # this allows us to applied the markov chain of the page rank algorithm\n",
        "  # since stochastic matrices will converege as times goes to infinity\n",
        "  for j in range(ranked_song_matrix.shape[1]):\n",
        "    ranked_song_matrix[:, j] = ranked_song_matrix[:, j] / ranked_song_matrix[:, j].sum()\n",
        "\n",
        "  # Compute the eigenvector which represent the probability of adding a song as\n",
        "  # we move the markov chain forward in time\n",
        "  # Sort the probability given by the eigenvector and find its corresponding song indices\n",
        "  eigenvector, eigenvalue = shift_invert_pi(18, 0.99, ranked_song_matrix, False)\n",
        "  eigenvector = np.vstack([eigenvector, ranked_songs[:eigenvector.shape[0], 1]]).T\n",
        "\n",
        "  sorted_recommendation_indices = np.argsort(eigenvector[:, 0])\n",
        "  sorted_recommendation = eigenvector[sorted_recommendation_indices]\n",
        "  sorted_recommendation = np.array(sorted_recommendation[::-1][:,1], dtype=int)\n",
        "\n",
        "  if display_result:\n",
        "    print(\"Given the following playlist:\")\n",
        "    for i in range(len(playlist)):\n",
        "      print(\"\\t\", str(i+1)+\".\", playlist[i], \"by\",  all_song_info[playlist[i]][1])\n",
        "    print()\n",
        "    print(\"We Recommend the following song ranking from most compatible to moderately compatible:\")\n",
        "    for i in range(len(sorted_recommendation)):\n",
        "      index = sorted_recommendation[i]\n",
        "      title = all_song_graph.get_nodes()[index]\n",
        "      artist = all_song_info[title][1]\n",
        "      print(\"\\t\", str(i+1)+\".\", title, \"by\", artist)\n",
        "\n",
        "  return\n"
      ],
      "metadata": {
        "id": "ubMliBS4G2RC"
      },
      "execution_count": null,
      "outputs": []
    },
    {
      "cell_type": "markdown",
      "source": [
        "**Numerical Approximation of Eigenvectors: Power Iteration & Shift Invert Power Iteration**"
      ],
      "metadata": {
        "id": "8IMGdqz28K8H"
      }
    },
    {
      "cell_type": "code",
      "source": [
        "def power_iteration(k, input):\n",
        "  x = np.random.random(input.shape[0])\n",
        "  x = x / np.linalg.norm(x)\n",
        "  y = 0\n",
        "  eigenval = 0\n",
        "  error = []\n",
        "\n",
        "  for i in range(k):\n",
        "    y = np.dot(A, x)\n",
        "    x = y / np.linalg.norm(y)\n",
        "    eigenval = np.dot(x.T, np.dot(A, x))\n",
        "    error.append(np.linalg.norm(np.dot(A, x)-x))\n",
        "\n",
        "  error = np.array(error)\n",
        "  plt.plot(range(k), np.log10(error), label=\"Power Iteration\", linewidth=2)\n",
        "  plt.ylabel(\"log 10 Error\")\n",
        "  plt.xlabel(\"Iteration\")\n",
        "\n",
        "  return x, eigenval\n",
        "\n",
        "def shift_invert_pi(k, sigma, input, show_convergence=True):\n",
        "  x = np.random.random(input.shape[0])\n",
        "  x = x / np.linalg.norm(x)\n",
        "  y = 0\n",
        "  sigma = sigma\n",
        "  eigenval = 0\n",
        "  error = []\n",
        "\n",
        "  for i in range(k):\n",
        "    y = np.dot(np.linalg.inv(input - sigma*np.identity(input.shape[0])), x)\n",
        "    x = y / np.linalg.norm(y)\n",
        "    eigenval = np.dot(x.T, np.dot(input, x))\n",
        "    error.append(np.linalg.norm(np.dot(input, x)-x))\n",
        "\n",
        "  if show_convergence:\n",
        "    error = np.array(error)\n",
        "    plt.plot(range(k), np.log10(error), label=\"Shift Invert Power Iteration\", linewidth=2)\n",
        "    plt.ylabel(\"log 10 Error\")\n",
        "    plt.xlabel(\"Iteration\")\n",
        "    plt.title(\"Numerical Approximation of Eigenvector\")\n",
        "    plt.legend()\n",
        "    plt.show()\n",
        "\n",
        "  return x, eigenval\n",
        "\n",
        "# Checking convergence of algorithm\n",
        "A = np.array([[0, 0, 1, 0.5],\n",
        "              [1/3.0, 0, 0, 0],\n",
        "              [1/3.0, 0.5, 0, 0.5],\n",
        "              [1/3.0, 0.5, 0, 0]])\n",
        "\n",
        "pi_eigenvec, pi_eigenval = power_iteration(18, A)\n",
        "print(pi_eigenvec, pi_eigenval)\n",
        "sipi_eigenvec, sipi_eigenval = shift_invert_pi(18, 0.99, A)\n",
        "print(sipi_eigenvec, sipi_eigenval)"
      ],
      "metadata": {
        "id": "b9Q01CM_HA6K",
        "colab": {
          "base_uri": "https://localhost:8080/",
          "height": 730
        },
        "outputId": "c56326b6-ef50-4bee-de8d-771f02c1d116"
      },
      "execution_count": null,
      "outputs": [
        {
          "output_type": "stream",
          "name": "stdout",
          "text": [
            "[0.72101209 0.24034439 0.54075241 0.36050376] 0.999999659207838\n"
          ]
        },
        {
          "output_type": "display_data",
          "data": {
            "text/plain": [
              "<Figure size 960x720 with 1 Axes>"
            ],
            "image/png": "[encoded data removed]"
          },
          "metadata": {}
        },
        {
          "output_type": "stream",
          "name": "stdout",
          "text": [
            "[0.72101012 0.24033671 0.54075759 0.36050506] 1.0000000000000002\n"
          ]
        }
      ]
    },
    {
      "cell_type": "markdown",
      "source": [
        "**Load Graph & Verify Graph Loaded Correctly**"
      ],
      "metadata": {
        "id": "-tofRmEt8QNC"
      }
    },
    {
      "cell_type": "code",
      "source": [
        "playlist_graph, playlist_song_info = setup_graph(data)\n",
        "\n",
        "print()\n",
        "print(\"Is the adjacency matrix loaded correctly:\", np.all(playlist_graph.get_adj()==playlist_graph.get_adj().T))\n",
        "\n",
        "with open('playlist_graph.pkl', 'wb') as file:\n",
        "  pickle.dump(playlist_graph, file)\n",
        "\n",
        "with open(\"playlist_song_info.pkl\", \"wb\") as file:\n",
        "  pickle.dump(playlist_song_info, file)\n"
      ],
      "metadata": {
        "colab": {
          "base_uri": "https://localhost:8080/"
        },
        "id": "DnNHkQwyzNKA",
        "outputId": "72841b5b-c245-447f-dfff-0725c3c2818c"
      },
      "execution_count": null,
      "outputs": [
        {
          "output_type": "stream",
          "name": "stderr",
          "text": [
            "Processing Playlist: 100%|██████████| 100/100 [04:28<00:00,  2.69s/it]\n"
          ]
        },
        {
          "output_type": "stream",
          "name": "stdout",
          "text": [
            "\n",
            "Is the adjacency matrix loaded correctly: True\n"
          ]
        }
      ]
    },
    {
      "cell_type": "markdown",
      "source": [
        "**Read Saved Datastructures**"
      ],
      "metadata": {
        "id": "vVUKuRwo8WaD"
      }
    },
    {
      "cell_type": "code",
      "source": [
        "with open('playlist_graph.pkl', 'rb') as file:\n",
        "    loaded_graph = pickle.load(file)\n",
        "\n",
        "with open('playlist_song_info.pkl', 'rb') as file:\n",
        "    loaded_info = pickle.load(file)"
      ],
      "metadata": {
        "id": "E6icqdn9rjJp"
      },
      "execution_count": null,
      "outputs": []
    },
    {
      "cell_type": "markdown",
      "source": [
        "**Given a playlist, get recommendation**"
      ],
      "metadata": {
        "id": "Oykni8yO8abL"
      }
    },
    {
      "cell_type": "code",
      "source": [
        "current_playlist = [\"Look What You Made Me Do\", \"Shape of You\", \"11月的蕭邦\", \"25\"]\n",
        "recommendation(current_playlist, loaded_graph, loaded_info, 50, display_result=True)"
      ],
      "metadata": {
        "colab": {
          "base_uri": "https://localhost:8080/"
        },
        "id": "SvoW4K7JUa7e",
        "outputId": "ea9aefac-0e54-4b44-af66-d3fbd231c057"
      },
      "execution_count": null,
      "outputs": [
        {
          "output_type": "stream",
          "name": "stdout",
          "text": [
            "Given the following playlist:\n",
            "\t 1. Look What You Made Me Do by Taylor Swift\n",
            "\t 2. Shape of You by Ed Sheeran\n",
            "\t 3. 11月的蕭邦 by Jay Chou\n",
            "\t 4. 25 by Adele\n",
            "\n",
            "We Recommend the following song ranking from most compatible to moderately compatible:\n",
            "\t 1. Montevallo by Sam Hunt\n",
            "\t 2. Nine Track Mind by Charlie Puth\n",
            "\t 3. Blurryface by Twenty One Pilots\n",
            "\t 4. + by Ed Sheeran\n",
            "\t 5. Memories...Do Not Open by The Chainsmokers\n",
            "\t 6. Native by OneRepublic\n",
            "\t 7. California 37 by Train\n",
            "\t 8. Purpose by Justin Bieber\n",
            "\t 9. Red Pill Blues by Maroon 5\n",
            "\t 10. More Life by Drake\n",
            "\t 11. Andy Grammer by Andy Grammer\n",
            "\t 12. Lukas Graham (Blue Album) by Lukas Graham\n",
            "\t 13. 依然范特西 by Jay Chou\n",
            "\t 14. 魔杰座 by Jay Chou\n",
            "\t 15. Delirium by Ellie Goulding\n",
            "\t 16. Cloud Nine by Kygo\n",
            "\t 17. 我很忙 by Jay Chou\n",
            "\t 18. Exclusive - The Forever Edition by Chris Brown\n",
            "\t 19. 林俊傑2003年-2010年作品精選集 by JJ Lin\n",
            "\t 20. x by Ed Sheeran\n",
            "\t 21. 超時代演唱會 by Jay Chou\n",
            "\t 22. 十二新作 by Jay Chou\n",
            "\t 23. 新地球 by JJ Lin\n",
            "\t 24. x by Ed Sheeran\n",
            "\t 25. Bombs Away by Sheppard\n",
            "\t 26. Take Me Home: Yearbook Edition by One Direction\n",
            "\t 27. Up All Night by One Direction\n",
            "\t 28. Food & Liquor II: The Great American Rap Album Pt. 1 by Lupe Fiasco\n",
            "\t 29. Drops Of Jupiter by Train\n",
            "\t 30. Talk Dirty by Jason Derulo\n",
            "\t 31. Michael Bublé by Michael Bublé\n",
            "\t 32. Frozen by Josh Gad\n",
            "\t 33. VHS by X Ambassadors\n",
            "\t 34. Me 4 U by OMI\n",
            "\t 35. With A Twist by Straight No Chaser\n",
            "\t 36. You Get What You Give by Zac Brown Band\n",
            "\t 37. Wanted On Voyage by George Ezra\n",
            "\t 38. High School Musical 3: Senior Year by High School Musical Cast\n",
            "\t 39. Bad 25th Anniversary by Michael Jackson\n",
            "\t 40. Emotion by Carly Rae Jepsen\n",
            "\t 41. True Believers by Darius Rucker\n",
            "\t 42. Rebel by Lecrae\n",
            "\t 43. TALKING IS HARD by WALK THE MOON\n",
            "\t 44. I Walk the Line (Original Soundtrack Recording) by Johnny Cash\n",
            "\t 45. Handwritten by Shawn Mendes\n",
            "\t 46. The Great Unknown by Rob Thomas\n",
            "\t 47. I Cry When I Laugh by Jess Glynne\n",
            "\t 48. Picture Show by Neon Trees\n",
            "\t 49. #3 Deluxe Version by The Script\n",
            "\t 50. Magazines Or Novels by Andy Grammer\n"
          ]
        }
      ]
    }
  ]
}